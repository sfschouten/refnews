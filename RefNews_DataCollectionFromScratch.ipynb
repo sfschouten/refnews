{
  "nbformat": 4,
  "nbformat_minor": 0,
  "metadata": {
    "colab": {
      "provenance": [],
      "collapsed_sections": [
        "G_bMYkcvjEJO"
      ]
    },
    "kernelspec": {
      "name": "python3",
      "display_name": "Python 3"
    },
    "language_info": {
      "name": "python"
    }
  },
  "cells": [
    {
      "cell_type": "code",
      "source": [
        "import os"
      ],
      "metadata": {
        "id": "l9_D88KYHeKH"
      },
      "execution_count": 2,
      "outputs": []
    },
    {
      "cell_type": "markdown",
      "source": [
        "Clone MWEP"
      ],
      "metadata": {
        "id": "VPYR5KD5jASj"
      }
    },
    {
      "cell_type": "code",
      "execution_count": 3,
      "metadata": {
        "id": "oiXn3ph7BSgI",
        "colab": {
          "base_uri": "https://localhost:8080/"
        },
        "outputId": "8574c67e-5686-4f1e-d582-4afcdb213ac8"
      },
      "outputs": [
        {
          "output_type": "stream",
          "name": "stdout",
          "text": [
            "Cloning into 'mwep'...\n",
            "remote: Enumerating objects: 774, done.\u001b[K\n",
            "remote: Counting objects: 100% (53/53), done.\u001b[K\n",
            "remote: Compressing objects: 100% (34/34), done.\u001b[K\n",
            "remote: Total 774 (delta 22), reused 44 (delta 19), pack-reused 721\u001b[K\n",
            "Receiving objects: 100% (774/774), 84.18 MiB | 20.51 MiB/s, done.\n",
            "Resolving deltas: 100% (504/504), done.\n"
          ]
        }
      ],
      "source": [
        "os.chdir('/content/')\n",
        "!git clone https://github.com/sfschouten/multilingual-wiki-event-pipeline mwep --branch develop"
      ]
    },
    {
      "cell_type": "markdown",
      "source": [
        "Install prerequisites"
      ],
      "metadata": {
        "id": "G_bMYkcvjEJO"
      }
    },
    {
      "cell_type": "code",
      "source": [
        "os.chdir('/content/mwep')\n",
        "!pip install -r requirements.txt"
      ],
      "metadata": {
        "id": "4PD5eD8mc7fl",
        "colab": {
          "base_uri": "https://localhost:8080/"
        },
        "outputId": "6eead827-7427-4fe9-a913-53a7f167c071"
      },
      "execution_count": 4,
      "outputs": [
        {
          "output_type": "stream",
          "name": "stdout",
          "text": [
            "Looking in indexes: https://pypi.org/simple, https://us-python.pkg.dev/colab-wheels/public/simple/\n",
            "Collecting rdflib~=6.1\n",
            "  Downloading rdflib-6.2.0-py3-none-any.whl (500 kB)\n",
            "\u001b[K     |████████████████████████████████| 500 kB 5.3 MB/s \n",
            "\u001b[?25hCollecting requests~=2.27\n",
            "  Downloading requests-2.28.1-py3-none-any.whl (62 kB)\n",
            "\u001b[K     |████████████████████████████████| 62 kB 1.4 MB/s \n",
            "\u001b[?25hRequirement already satisfied: spacy~=3.2 in /usr/local/lib/python3.7/dist-packages (from -r requirements.txt (line 3)) (3.4.1)\n",
            "Collecting docopt~=0.6\n",
            "  Downloading docopt-0.6.2.tar.gz (25 kB)\n",
            "Requirement already satisfied: scipy>=1.4 in /usr/local/lib/python3.7/dist-packages (from -r requirements.txt (line 5)) (1.7.3)\n",
            "Collecting wikitextparser~=0.48\n",
            "  Downloading wikitextparser-0.51.1-py3-none-any.whl (65 kB)\n",
            "\u001b[K     |████████████████████████████████| 65 kB 4.4 MB/s \n",
            "\u001b[?25hCollecting wikipedia~=1.4\n",
            "  Downloading wikipedia-1.4.0.tar.gz (27 kB)\n",
            "Collecting graphviz~=0.19\n",
            "  Downloading graphviz-0.20.1-py3-none-any.whl (47 kB)\n",
            "\u001b[K     |████████████████████████████████| 47 kB 4.5 MB/s \n",
            "\u001b[?25hRequirement already satisfied: lxml~=4.7 in /usr/local/lib/python3.7/dist-packages (from -r requirements.txt (line 9)) (4.9.1)\n",
            "Requirement already satisfied: pandas~=1.3 in /usr/local/lib/python3.7/dist-packages (from -r requirements.txt (line 10)) (1.3.5)\n",
            "Collecting news_please~=1.5\n",
            "  Downloading news_please-1.5.22-py3-none-any.whl (89 kB)\n",
            "\u001b[K     |████████████████████████████████| 89 kB 8.8 MB/s \n",
            "\u001b[?25hRequirement already satisfied: networkx~=2.6 in /usr/local/lib/python3.7/dist-packages (from -r requirements.txt (line 12)) (2.6.3)\n",
            "Collecting langdetect~=1.0\n",
            "  Downloading langdetect-1.0.9.tar.gz (981 kB)\n",
            "\u001b[K     |████████████████████████████████| 981 kB 44.4 MB/s \n",
            "\u001b[?25hCollecting newspaper3k~=0.2\n",
            "  Downloading newspaper3k-0.2.8-py3-none-any.whl (211 kB)\n",
            "\u001b[K     |████████████████████████████████| 211 kB 55.1 MB/s \n",
            "\u001b[?25hRequirement already satisfied: numpy~=1.21 in /usr/local/lib/python3.7/dist-packages (from -r requirements.txt (line 16)) (1.21.6)\n",
            "Collecting path.py~=12.5\n",
            "  Downloading path.py-12.5.0-py3-none-any.whl (2.3 kB)\n",
            "Requirement already satisfied: tqdm~=4.62 in /usr/local/lib/python3.7/dist-packages (from -r requirements.txt (line 18)) (4.64.1)\n",
            "Collecting urllib3~=1.26\n",
            "  Downloading urllib3-1.26.12-py2.py3-none-any.whl (140 kB)\n",
            "\u001b[K     |████████████████████████████████| 140 kB 43.9 MB/s \n",
            "\u001b[?25hRequirement already satisfied: importlib-metadata in /usr/local/lib/python3.7/dist-packages (from rdflib~=6.1->-r requirements.txt (line 1)) (4.13.0)\n",
            "Requirement already satisfied: setuptools in /usr/local/lib/python3.7/dist-packages (from rdflib~=6.1->-r requirements.txt (line 1)) (57.4.0)\n",
            "Requirement already satisfied: pyparsing in /usr/local/lib/python3.7/dist-packages (from rdflib~=6.1->-r requirements.txt (line 1)) (3.0.9)\n",
            "Collecting isodate\n",
            "  Downloading isodate-0.6.1-py2.py3-none-any.whl (41 kB)\n",
            "\u001b[K     |████████████████████████████████| 41 kB 536 kB/s \n",
            "\u001b[?25hRequirement already satisfied: idna<4,>=2.5 in /usr/local/lib/python3.7/dist-packages (from requests~=2.27->-r requirements.txt (line 2)) (2.10)\n",
            "Requirement already satisfied: certifi>=2017.4.17 in /usr/local/lib/python3.7/dist-packages (from requests~=2.27->-r requirements.txt (line 2)) (2022.9.24)\n",
            "Requirement already satisfied: charset-normalizer<3,>=2 in /usr/local/lib/python3.7/dist-packages (from requests~=2.27->-r requirements.txt (line 2)) (2.1.1)\n",
            "Requirement already satisfied: catalogue<2.1.0,>=2.0.6 in /usr/local/lib/python3.7/dist-packages (from spacy~=3.2->-r requirements.txt (line 3)) (2.0.8)\n",
            "Requirement already satisfied: thinc<8.2.0,>=8.1.0 in /usr/local/lib/python3.7/dist-packages (from spacy~=3.2->-r requirements.txt (line 3)) (8.1.4)\n",
            "Requirement already satisfied: preshed<3.1.0,>=3.0.2 in /usr/local/lib/python3.7/dist-packages (from spacy~=3.2->-r requirements.txt (line 3)) (3.0.8)\n",
            "Requirement already satisfied: langcodes<4.0.0,>=3.2.0 in /usr/local/lib/python3.7/dist-packages (from spacy~=3.2->-r requirements.txt (line 3)) (3.3.0)\n",
            "Requirement already satisfied: murmurhash<1.1.0,>=0.28.0 in /usr/local/lib/python3.7/dist-packages (from spacy~=3.2->-r requirements.txt (line 3)) (1.0.9)\n",
            "Requirement already satisfied: wasabi<1.1.0,>=0.9.1 in /usr/local/lib/python3.7/dist-packages (from spacy~=3.2->-r requirements.txt (line 3)) (0.10.1)\n",
            "Requirement already satisfied: srsly<3.0.0,>=2.4.3 in /usr/local/lib/python3.7/dist-packages (from spacy~=3.2->-r requirements.txt (line 3)) (2.4.4)\n",
            "Requirement already satisfied: typer<0.5.0,>=0.3.0 in /usr/local/lib/python3.7/dist-packages (from spacy~=3.2->-r requirements.txt (line 3)) (0.4.2)\n",
            "Requirement already satisfied: spacy-loggers<2.0.0,>=1.0.0 in /usr/local/lib/python3.7/dist-packages (from spacy~=3.2->-r requirements.txt (line 3)) (1.0.3)\n",
            "Requirement already satisfied: pydantic!=1.8,!=1.8.1,<1.10.0,>=1.7.4 in /usr/local/lib/python3.7/dist-packages (from spacy~=3.2->-r requirements.txt (line 3)) (1.9.2)\n",
            "Requirement already satisfied: packaging>=20.0 in /usr/local/lib/python3.7/dist-packages (from spacy~=3.2->-r requirements.txt (line 3)) (21.3)\n",
            "Requirement already satisfied: cymem<2.1.0,>=2.0.2 in /usr/local/lib/python3.7/dist-packages (from spacy~=3.2->-r requirements.txt (line 3)) (2.0.7)\n",
            "Requirement already satisfied: typing-extensions<4.2.0,>=3.7.4 in /usr/local/lib/python3.7/dist-packages (from spacy~=3.2->-r requirements.txt (line 3)) (4.1.1)\n",
            "Requirement already satisfied: pathy>=0.3.5 in /usr/local/lib/python3.7/dist-packages (from spacy~=3.2->-r requirements.txt (line 3)) (0.6.2)\n",
            "Requirement already satisfied: jinja2 in /usr/local/lib/python3.7/dist-packages (from spacy~=3.2->-r requirements.txt (line 3)) (2.11.3)\n",
            "Requirement already satisfied: spacy-legacy<3.1.0,>=3.0.9 in /usr/local/lib/python3.7/dist-packages (from spacy~=3.2->-r requirements.txt (line 3)) (3.0.10)\n",
            "Collecting regex>=2022.9.11\n",
            "  Downloading regex-2022.9.13-cp37-cp37m-manylinux_2_17_x86_64.manylinux2014_x86_64.whl (757 kB)\n",
            "\u001b[K     |████████████████████████████████| 757 kB 50.5 MB/s \n",
            "\u001b[?25hRequirement already satisfied: wcwidth in /usr/local/lib/python3.7/dist-packages (from wikitextparser~=0.48->-r requirements.txt (line 6)) (0.2.5)\n",
            "Requirement already satisfied: beautifulsoup4 in /usr/local/lib/python3.7/dist-packages (from wikipedia~=1.4->-r requirements.txt (line 7)) (4.6.3)\n",
            "Requirement already satisfied: pytz>=2017.3 in /usr/local/lib/python3.7/dist-packages (from pandas~=1.3->-r requirements.txt (line 10)) (2022.4)\n",
            "Requirement already satisfied: python-dateutil>=2.7.3 in /usr/local/lib/python3.7/dist-packages (from pandas~=1.3->-r requirements.txt (line 10)) (2.8.2)\n",
            "Collecting PyDispatcher>=2.0.5\n",
            "  Downloading PyDispatcher-2.0.6.tar.gz (38 kB)\n",
            "Collecting warcio>=1.3.3\n",
            "  Downloading warcio-1.7.4-py2.py3-none-any.whl (40 kB)\n",
            "\u001b[K     |████████████████████████████████| 40 kB 5.4 MB/s \n",
            "\u001b[?25hRequirement already satisfied: six>=1.10.0 in /usr/local/lib/python3.7/dist-packages (from news_please~=1.5->-r requirements.txt (line 11)) (1.15.0)\n",
            "Collecting plac>=0.9.6\n",
            "  Downloading plac-1.3.5-py2.py3-none-any.whl (22 kB)\n",
            "Requirement already satisfied: bs4 in /usr/local/lib/python3.7/dist-packages (from news_please~=1.5->-r requirements.txt (line 11)) (0.0.1)\n",
            "Collecting hurry.filesize>=0.9\n",
            "  Downloading hurry.filesize-0.9.tar.gz (2.8 kB)\n",
            "Collecting hjson>=1.5.8\n",
            "  Downloading hjson-3.1.0-py3-none-any.whl (54 kB)\n",
            "\u001b[K     |████████████████████████████████| 54 kB 2.7 MB/s \n",
            "\u001b[?25hCollecting elasticsearch>=2.4\n",
            "  Downloading elasticsearch-8.4.3-py3-none-any.whl (384 kB)\n",
            "\u001b[K     |████████████████████████████████| 384 kB 72.4 MB/s \n",
            "\u001b[?25hCollecting Scrapy>=1.1.0\n",
            "  Downloading Scrapy-2.7.0-py2.py3-none-any.whl (270 kB)\n",
            "\u001b[K     |████████████████████████████████| 270 kB 53.5 MB/s \n",
            "\u001b[?25hCollecting psycopg2-binary>=2.8.4\n",
            "  Downloading psycopg2_binary-2.9.4-cp37-cp37m-manylinux_2_17_x86_64.manylinux2014_x86_64.whl (3.0 MB)\n",
            "\u001b[K     |████████████████████████████████| 3.0 MB 40.3 MB/s \n",
            "\u001b[?25hCollecting dotmap>=1.2.17\n",
            "  Downloading dotmap-1.3.30-py3-none-any.whl (11 kB)\n",
            "Collecting PyMySQL>=0.7.9\n",
            "  Downloading PyMySQL-1.0.2-py3-none-any.whl (43 kB)\n",
            "\u001b[K     |████████████████████████████████| 43 kB 2.2 MB/s \n",
            "\u001b[?25hCollecting awscli>=1.11.117\n",
            "  Downloading awscli-1.25.97-py3-none-any.whl (3.9 MB)\n",
            "\u001b[K     |████████████████████████████████| 3.9 MB 44.1 MB/s \n",
            "\u001b[?25hCollecting readability-lxml>=0.6.2\n",
            "  Downloading readability_lxml-0.8.1-py3-none-any.whl (20 kB)\n",
            "Collecting cchardet>=2.1.7\n",
            "  Downloading cchardet-2.1.7-cp37-cp37m-manylinux2010_x86_64.whl (263 kB)\n",
            "\u001b[K     |████████████████████████████████| 263 kB 59.1 MB/s \n",
            "\u001b[?25hCollecting ago>=0.0.9\n",
            "  Downloading ago-0.0.95.tar.gz (4.6 kB)\n",
            "Collecting jieba3k>=0.35.1\n",
            "  Downloading jieba3k-0.35.1.zip (7.4 MB)\n",
            "\u001b[K     |████████████████████████████████| 7.4 MB 21.0 MB/s \n",
            "\u001b[?25hRequirement already satisfied: Pillow>=3.3.0 in /usr/local/lib/python3.7/dist-packages (from newspaper3k~=0.2->-r requirements.txt (line 15)) (7.1.2)\n",
            "Requirement already satisfied: nltk>=3.2.1 in /usr/local/lib/python3.7/dist-packages (from newspaper3k~=0.2->-r requirements.txt (line 15)) (3.7)\n",
            "Collecting cssselect>=0.9.2\n",
            "  Downloading cssselect-1.1.0-py2.py3-none-any.whl (16 kB)\n",
            "Collecting feedparser>=5.2.1\n",
            "  Downloading feedparser-6.0.10-py3-none-any.whl (81 kB)\n",
            "\u001b[K     |████████████████████████████████| 81 kB 8.2 MB/s \n",
            "\u001b[?25hCollecting feedfinder2>=0.0.4\n",
            "  Downloading feedfinder2-0.0.4.tar.gz (3.3 kB)\n",
            "Collecting tinysegmenter==0.3\n",
            "  Downloading tinysegmenter-0.3.tar.gz (16 kB)\n",
            "Collecting tldextract>=2.0.1\n",
            "  Downloading tldextract-3.4.0-py3-none-any.whl (93 kB)\n",
            "\u001b[K     |████████████████████████████████| 93 kB 2.6 MB/s \n",
            "\u001b[?25hRequirement already satisfied: PyYAML>=3.11 in /usr/local/lib/python3.7/dist-packages (from newspaper3k~=0.2->-r requirements.txt (line 15)) (6.0)\n",
            "Collecting path\n",
            "  Downloading path-16.5.0-py3-none-any.whl (26 kB)\n",
            "Collecting docutils<0.17,>=0.10\n",
            "  Downloading docutils-0.16-py2.py3-none-any.whl (548 kB)\n",
            "\u001b[K     |████████████████████████████████| 548 kB 56.1 MB/s \n",
            "\u001b[?25hCollecting botocore==1.27.96\n",
            "  Downloading botocore-1.27.96-py3-none-any.whl (9.3 MB)\n",
            "\u001b[K     |████████████████████████████████| 9.3 MB 44.2 MB/s \n",
            "\u001b[?25hCollecting PyYAML>=3.11\n",
            "  Downloading PyYAML-5.4.1-cp37-cp37m-manylinux1_x86_64.whl (636 kB)\n",
            "\u001b[K     |████████████████████████████████| 636 kB 50.2 MB/s \n",
            "\u001b[?25hCollecting s3transfer<0.7.0,>=0.6.0\n",
            "  Downloading s3transfer-0.6.0-py3-none-any.whl (79 kB)\n",
            "\u001b[K     |████████████████████████████████| 79 kB 8.5 MB/s \n",
            "\u001b[?25hCollecting colorama<0.4.5,>=0.2.5\n",
            "  Downloading colorama-0.4.4-py2.py3-none-any.whl (16 kB)\n",
            "Collecting rsa<4.8,>=3.1.2\n",
            "  Downloading rsa-4.7.2-py3-none-any.whl (34 kB)\n",
            "Collecting jmespath<2.0.0,>=0.7.1\n",
            "  Downloading jmespath-1.0.1-py3-none-any.whl (20 kB)\n",
            "Requirement already satisfied: zipp>=0.5 in /usr/local/lib/python3.7/dist-packages (from catalogue<2.1.0,>=2.0.6->spacy~=3.2->-r requirements.txt (line 3)) (3.9.0)\n",
            "Collecting elastic-transport<9,>=8\n",
            "  Downloading elastic_transport-8.4.0-py3-none-any.whl (59 kB)\n",
            "\u001b[K     |████████████████████████████████| 59 kB 6.0 MB/s \n",
            "\u001b[?25hCollecting sgmllib3k\n",
            "  Downloading sgmllib3k-1.0.0.tar.gz (5.8 kB)\n",
            "Requirement already satisfied: joblib in /usr/local/lib/python3.7/dist-packages (from nltk>=3.2.1->newspaper3k~=0.2->-r requirements.txt (line 15)) (1.2.0)\n",
            "Requirement already satisfied: click in /usr/local/lib/python3.7/dist-packages (from nltk>=3.2.1->newspaper3k~=0.2->-r requirements.txt (line 15)) (7.1.2)\n",
            "Requirement already satisfied: smart-open<6.0.0,>=5.2.1 in /usr/local/lib/python3.7/dist-packages (from pathy>=0.3.5->spacy~=3.2->-r requirements.txt (line 3)) (5.2.1)\n",
            "Requirement already satisfied: chardet in /usr/local/lib/python3.7/dist-packages (from readability-lxml>=0.6.2->news_please~=1.5->-r requirements.txt (line 11)) (3.0.4)\n",
            "Requirement already satisfied: pyasn1>=0.1.3 in /usr/local/lib/python3.7/dist-packages (from rsa<4.8,>=3.1.2->awscli>=1.11.117->news_please~=1.5->-r requirements.txt (line 11)) (0.4.8)\n",
            "Collecting queuelib>=1.4.2\n",
            "  Downloading queuelib-1.6.2-py2.py3-none-any.whl (13 kB)\n",
            "Collecting zope.interface>=5.1.0\n",
            "  Downloading zope.interface-5.5.0-cp37-cp37m-manylinux_2_5_x86_64.manylinux1_x86_64.manylinux_2_12_x86_64.manylinux2010_x86_64.whl (254 kB)\n",
            "\u001b[K     |████████████████████████████████| 254 kB 69.5 MB/s \n",
            "\u001b[?25hCollecting protego>=0.1.15\n",
            "  Downloading Protego-0.2.1-py2.py3-none-any.whl (8.2 kB)\n",
            "Collecting w3lib>=1.17.0\n",
            "  Downloading w3lib-2.0.1-py3-none-any.whl (20 kB)\n",
            "Collecting cryptography>=3.3\n",
            "  Downloading cryptography-38.0.1-cp36-abi3-manylinux_2_24_x86_64.whl (4.0 MB)\n",
            "\u001b[K     |████████████████████████████████| 4.0 MB 45.5 MB/s \n",
            "\u001b[?25hCollecting itemloaders>=1.0.1\n",
            "  Downloading itemloaders-1.0.6-py3-none-any.whl (11 kB)\n",
            "Collecting Twisted>=18.9.0\n",
            "  Downloading Twisted-22.8.0-py3-none-any.whl (3.1 MB)\n",
            "\u001b[K     |████████████████████████████████| 3.1 MB 53.5 MB/s \n",
            "\u001b[?25hCollecting parsel>=1.5.0\n",
            "  Downloading parsel-1.6.0-py2.py3-none-any.whl (13 kB)\n",
            "Collecting service-identity>=18.1.0\n",
            "  Downloading service_identity-21.1.0-py2.py3-none-any.whl (12 kB)\n",
            "Collecting itemadapter>=0.1.0\n",
            "  Downloading itemadapter-0.7.0-py3-none-any.whl (10 kB)\n",
            "Collecting pyOpenSSL>=21.0.0\n",
            "  Downloading pyOpenSSL-22.1.0-py3-none-any.whl (57 kB)\n",
            "\u001b[K     |████████████████████████████████| 57 kB 4.9 MB/s \n",
            "\u001b[?25hRequirement already satisfied: cffi>=1.12 in /usr/local/lib/python3.7/dist-packages (from cryptography>=3.3->Scrapy>=1.1.0->news_please~=1.5->-r requirements.txt (line 11)) (1.15.1)\n",
            "Requirement already satisfied: pycparser in /usr/local/lib/python3.7/dist-packages (from cffi>=1.12->cryptography>=3.3->Scrapy>=1.1.0->news_please~=1.5->-r requirements.txt (line 11)) (2.21)\n",
            "Requirement already satisfied: pyasn1-modules in /usr/local/lib/python3.7/dist-packages (from service-identity>=18.1.0->Scrapy>=1.1.0->news_please~=1.5->-r requirements.txt (line 11)) (0.2.8)\n",
            "Requirement already satisfied: attrs>=19.1.0 in /usr/local/lib/python3.7/dist-packages (from service-identity>=18.1.0->Scrapy>=1.1.0->news_please~=1.5->-r requirements.txt (line 11)) (22.1.0)\n",
            "Requirement already satisfied: confection<1.0.0,>=0.0.1 in /usr/local/lib/python3.7/dist-packages (from thinc<8.2.0,>=8.1.0->spacy~=3.2->-r requirements.txt (line 3)) (0.0.3)\n",
            "Requirement already satisfied: blis<0.8.0,>=0.7.8 in /usr/local/lib/python3.7/dist-packages (from thinc<8.2.0,>=8.1.0->spacy~=3.2->-r requirements.txt (line 3)) (0.7.8)\n",
            "Collecting requests-file>=1.4\n",
            "  Downloading requests_file-1.5.1-py2.py3-none-any.whl (3.7 kB)\n",
            "Requirement already satisfied: filelock>=3.0.8 in /usr/local/lib/python3.7/dist-packages (from tldextract>=2.0.1->newspaper3k~=0.2->-r requirements.txt (line 15)) (3.8.0)\n",
            "Collecting hyperlink>=17.1.1\n",
            "  Downloading hyperlink-21.0.0-py2.py3-none-any.whl (74 kB)\n",
            "\u001b[K     |████████████████████████████████| 74 kB 2.9 MB/s \n",
            "\u001b[?25hCollecting Automat>=0.8.0\n",
            "  Downloading Automat-20.2.0-py2.py3-none-any.whl (31 kB)\n",
            "Collecting constantly>=15.1\n",
            "  Downloading constantly-15.1.0-py2.py3-none-any.whl (7.9 kB)\n",
            "Collecting incremental>=21.3.0\n",
            "  Downloading incremental-22.10.0-py2.py3-none-any.whl (16 kB)\n",
            "Requirement already satisfied: MarkupSafe>=0.23 in /usr/local/lib/python3.7/dist-packages (from jinja2->spacy~=3.2->-r requirements.txt (line 3)) (2.0.1)\n",
            "Building wheels for collected packages: docopt, wikipedia, langdetect, tinysegmenter, ago, feedfinder2, hurry.filesize, jieba3k, PyDispatcher, sgmllib3k\n",
            "  Building wheel for docopt (setup.py) ... \u001b[?25l\u001b[?25hdone\n",
            "  Created wheel for docopt: filename=docopt-0.6.2-py2.py3-none-any.whl size=13723 sha256=820f6825f7789935c285e55aa9c7adee05e45d52dbf826818fe01563b018a184\n",
            "  Stored in directory: /root/.cache/pip/wheels/72/b0/3f/1d95f96ff986c7dfffe46ce2be4062f38ebd04b506c77c81b9\n",
            "  Building wheel for wikipedia (setup.py) ... \u001b[?25l\u001b[?25hdone\n",
            "  Created wheel for wikipedia: filename=wikipedia-1.4.0-py3-none-any.whl size=11695 sha256=9eca7b7931bb54b3bf2ff42d71e8e9c47316b88518452d537c0d6124bcf0f563\n",
            "  Stored in directory: /root/.cache/pip/wheels/15/93/6d/5b2c68b8a64c7a7a04947b4ed6d89fb557dcc6bc27d1d7f3ba\n",
            "  Building wheel for langdetect (setup.py) ... \u001b[?25l\u001b[?25hdone\n",
            "  Created wheel for langdetect: filename=langdetect-1.0.9-py3-none-any.whl size=993242 sha256=fc9818853e91af8e1d0febf12634bfe8e71615b51abdca1ad45c359f49037399\n",
            "  Stored in directory: /root/.cache/pip/wheels/c5/96/8a/f90c59ed25d75e50a8c10a1b1c2d4c402e4dacfa87f3aff36a\n",
            "  Building wheel for tinysegmenter (setup.py) ... \u001b[?25l\u001b[?25hdone\n",
            "  Created wheel for tinysegmenter: filename=tinysegmenter-0.3-py3-none-any.whl size=13553 sha256=2661d090a07174485f23b4b5fb9c949dd3f49af3e97ac1bf7ee37676f996e8dc\n",
            "  Stored in directory: /root/.cache/pip/wheels/df/67/41/faca10fa501ca010be41b49d40360c2959e1c4f09bcbfa37fa\n",
            "  Building wheel for ago (setup.py) ... \u001b[?25l\u001b[?25hdone\n",
            "  Created wheel for ago: filename=ago-0.0.95-py3-none-any.whl size=5161 sha256=42f70c5d0d2f210f78309372ca573b5a32c2f0addbd3b4495f94b59392c24abe\n",
            "  Stored in directory: /root/.cache/pip/wheels/22/83/c8/b483c665c503205a2afd525f0cb62e7afaa6a858f63a63f6d8\n",
            "  Building wheel for feedfinder2 (setup.py) ... \u001b[?25l\u001b[?25hdone\n",
            "  Created wheel for feedfinder2: filename=feedfinder2-0.0.4-py3-none-any.whl size=3357 sha256=2ece3ce9532f10b5bae6660ee9a652b200072f8fcf9fbf4102e835909cbe49c8\n",
            "  Stored in directory: /root/.cache/pip/wheels/7f/d4/8f/6e2ca54744c9d7292d88ddb8d42876bcdab5e6d84a21c10346\n",
            "  Building wheel for hurry.filesize (setup.py) ... \u001b[?25l\u001b[?25hdone\n",
            "  Created wheel for hurry.filesize: filename=hurry.filesize-0.9-py3-none-any.whl size=4133 sha256=0fb6d69d238a9508f2a76e5d195849d6db1ea621c70d3a5d733873b6ff3270b0\n",
            "  Stored in directory: /root/.cache/pip/wheels/2c/99/7f/8c88c372b4bd642a731232e63cb89467554f6cea7708574e49\n",
            "  Building wheel for jieba3k (setup.py) ... \u001b[?25l\u001b[?25hdone\n",
            "  Created wheel for jieba3k: filename=jieba3k-0.35.1-py3-none-any.whl size=7398404 sha256=447028dd644027b3c837e336f18d4881de7c2d1927fc425114b15a02d30984b9\n",
            "  Stored in directory: /root/.cache/pip/wheels/4c/91/46/3c208287b726df325a5979574324878b679116e4baae1af3c3\n",
            "  Building wheel for PyDispatcher (setup.py) ... \u001b[?25l\u001b[?25hdone\n",
            "  Created wheel for PyDispatcher: filename=PyDispatcher-2.0.6-py3-none-any.whl size=11958 sha256=6e67a13cdc9d90392fb72815e67da40ab6a4ff1a5e437bc5b2d1ea0106573313\n",
            "  Stored in directory: /root/.cache/pip/wheels/c9/d6/6a/de198d890277cde60ca3dbebe7ae592d3b381c7d9bb2455f4d\n",
            "  Building wheel for sgmllib3k (setup.py) ... \u001b[?25l\u001b[?25hdone\n",
            "  Created wheel for sgmllib3k: filename=sgmllib3k-1.0.0-py3-none-any.whl size=6066 sha256=606f564cfdc98054daff3fc425a28a946b4d80ebe50ffb7675d77c0f4e04b38a\n",
            "  Stored in directory: /root/.cache/pip/wheels/73/ad/a4/0dff4a6ef231fc0dfa12ffbac2a36cebfdddfe059f50e019aa\n",
            "Successfully built docopt wikipedia langdetect tinysegmenter ago feedfinder2 hurry.filesize jieba3k PyDispatcher sgmllib3k\n",
            "Installing collected packages: urllib3, w3lib, requests, jmespath, cssselect, zope.interface, sgmllib3k, requests-file, regex, parsel, itemadapter, incremental, hyperlink, cryptography, constantly, botocore, Automat, Twisted, tldextract, tinysegmenter, service-identity, s3transfer, rsa, queuelib, PyYAML, pyOpenSSL, PyDispatcher, protego, jieba3k, itemloaders, feedparser, feedfinder2, elastic-transport, docutils, colorama, warcio, Scrapy, readability-lxml, PyMySQL, psycopg2-binary, plac, path, newspaper3k, langdetect, isodate, hurry.filesize, hjson, elasticsearch, dotmap, cchardet, awscli, ago, wikitextparser, wikipedia, rdflib, path.py, news-please, graphviz, docopt\n",
            "  Attempting uninstall: urllib3\n",
            "    Found existing installation: urllib3 1.24.3\n",
            "    Uninstalling urllib3-1.24.3:\n",
            "      Successfully uninstalled urllib3-1.24.3\n",
            "  Attempting uninstall: requests\n",
            "    Found existing installation: requests 2.23.0\n",
            "    Uninstalling requests-2.23.0:\n",
            "      Successfully uninstalled requests-2.23.0\n",
            "  Attempting uninstall: regex\n",
            "    Found existing installation: regex 2022.6.2\n",
            "    Uninstalling regex-2022.6.2:\n",
            "      Successfully uninstalled regex-2022.6.2\n",
            "  Attempting uninstall: rsa\n",
            "    Found existing installation: rsa 4.9\n",
            "    Uninstalling rsa-4.9:\n",
            "      Successfully uninstalled rsa-4.9\n",
            "  Attempting uninstall: PyYAML\n",
            "    Found existing installation: PyYAML 6.0\n",
            "    Uninstalling PyYAML-6.0:\n",
            "      Successfully uninstalled PyYAML-6.0\n",
            "  Attempting uninstall: docutils\n",
            "    Found existing installation: docutils 0.17.1\n",
            "    Uninstalling docutils-0.17.1:\n",
            "      Successfully uninstalled docutils-0.17.1\n",
            "  Attempting uninstall: graphviz\n",
            "    Found existing installation: graphviz 0.10.1\n",
            "    Uninstalling graphviz-0.10.1:\n",
            "      Successfully uninstalled graphviz-0.10.1\n",
            "Successfully installed Automat-20.2.0 PyDispatcher-2.0.6 PyMySQL-1.0.2 PyYAML-5.4.1 Scrapy-2.7.0 Twisted-22.8.0 ago-0.0.95 awscli-1.25.97 botocore-1.27.96 cchardet-2.1.7 colorama-0.4.4 constantly-15.1.0 cryptography-38.0.1 cssselect-1.1.0 docopt-0.6.2 docutils-0.16 dotmap-1.3.30 elastic-transport-8.4.0 elasticsearch-8.4.3 feedfinder2-0.0.4 feedparser-6.0.10 graphviz-0.20.1 hjson-3.1.0 hurry.filesize-0.9 hyperlink-21.0.0 incremental-22.10.0 isodate-0.6.1 itemadapter-0.7.0 itemloaders-1.0.6 jieba3k-0.35.1 jmespath-1.0.1 langdetect-1.0.9 news-please-1.5.22 newspaper3k-0.2.8 parsel-1.6.0 path-16.5.0 path.py-12.5.0 plac-1.3.5 protego-0.2.1 psycopg2-binary-2.9.4 pyOpenSSL-22.1.0 queuelib-1.6.2 rdflib-6.2.0 readability-lxml-0.8.1 regex-2022.9.13 requests-2.28.1 requests-file-1.5.1 rsa-4.7.2 s3transfer-0.6.0 service-identity-21.1.0 sgmllib3k-1.0.0 tinysegmenter-0.3 tldextract-3.4.0 urllib3-1.26.12 w3lib-2.0.1 warcio-1.7.4 wikipedia-1.4.0 wikitextparser-0.51.1 zope.interface-5.5.0\n"
          ]
        }
      ]
    },
    {
      "cell_type": "markdown",
      "source": [
        "Download Wikipedia and some other prerequisites."
      ],
      "metadata": {
        "id": "3zMUJ3CcjK-I"
      }
    },
    {
      "cell_type": "code",
      "source": [
        "os.chdir('/content/mwep')\n",
        "\n",
        "!python -m spacy download en_core_web_sm\n",
        "!python -m spacy download nl_core_news_sm\n",
        "!python -m spacy download it_core_news_sm\n",
        "\n",
        "!rm -rf resources\n",
        "!mkdir resources\n",
        "os.chdir('/content/mwep/resources')\n",
        "\n",
        "!wget http://kyoto.let.vu.nl/~postma/dfn/mwep/merged_indices.p\n",
        "\n",
        "!git clone https://github.com/cltl/SpaCy-to-NAF\n",
        "os.chdir('SpaCy-to-NAF')\n",
        "!git checkout 7c6afc17b5056ef9fe96572e255d2072c5bcb309\n",
        "!cp spacy_to_naf.py ../../\n",
        "\n",
        "os.chdir('..')\n",
        "!wget http://kyoto.let.vu.nl/~postma/dfn/mwep/Wikipedia_Reader.zip\n",
        "!unzip Wikipedia_Reader.zip"
      ],
      "metadata": {
        "id": "6m6OZQGAL31j"
      },
      "execution_count": null,
      "outputs": []
    },
    {
      "cell_type": "markdown",
      "source": [
        "Specify Wikidata event types used to search for incidents."
      ],
      "metadata": {
        "id": "moYpMr9FjgC9"
      }
    },
    {
      "cell_type": "code",
      "source": [
        "EVENT_TYPES = [\n",
        "    \"Q1241356\",\n",
        "    \"Q149086\",\n",
        "    \"Q167170\",\n",
        "    \"Q18515440\",\n",
        "    \"Q27318\",\n",
        "    \"Q350604\",\n",
        "    \"Q43109\",\n",
        "    \"Q45382\",\n",
        "    \"Q669262\",\n",
        "    \"Q7590\",\n",
        "    \"Q8065\",\n",
        "    \"Q11822042\",\n",
        "]\n",
        "with open('/content/mwep/config/event_types.txt', 'w') as writefile:\n",
        "    writefile.write('\\n'.join(EVENT_TYPES))"
      ],
      "metadata": {
        "id": "3YeakcdUGYef"
      },
      "execution_count": 6,
      "outputs": []
    },
    {
      "cell_type": "markdown",
      "source": [
        "Run MWEP"
      ],
      "metadata": {
        "id": "G9Ir6UbyjntW"
      }
    },
    {
      "cell_type": "code",
      "source": [
        "os.chdir('/content/mwep')\n",
        "\n",
        "!python3 main.py \\\n",
        "        --config_path=config/mwep_settings.json \\\n",
        "        --project=iptc-news-articles1 \\\n",
        "        --path_event_types=config/event_types.txt \\\n",
        "        --path_mapping_wd_to_sem=wdt_fn_mappings/any.json \\\n",
        "        --languages=en \\\n",
        "        --wikipedia_sources=True \\\n",
        "        --verbose=1 \\\n",
        "        --skipspacy\n"
      ],
      "metadata": {
        "id": "76UgFJ84GKEn"
      },
      "execution_count": null,
      "outputs": []
    }
  ]
}